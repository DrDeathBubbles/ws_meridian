{
 "cells": [
  {
   "cell_type": "markdown",
   "id": "tutorial-header",
   "metadata": {},
   "source": [
    "# Google Meridian Tutorial\n",
    "\n",
    "This notebook demonstrates how to use Google Meridian for Media Mix Modeling (MMM).\n",
    "\n",
    "## Overview\n",
    "- Data loading and preparation\n",
    "- Model specification and training\n",
    "- Analysis and diagnostics\n",
    "- Budget optimization"
   ]
  },
  {
   "cell_type": "markdown",
   "id": "imports-header",
   "metadata": {},
   "source": [
    "## 1. Import Libraries"
   ]
  },
  {
   "cell_type": "code",
   "execution_count": null,
   "id": "imports",
   "metadata": {},
   "outputs": [],
   "source": [
    "import numpy as np\n",
    "import pandas as pd\n",
    "import tensorflow as tf\n",
    "import tensorflow_probability as tfp\n",
    "import arviz as az\n",
    "import matplotlib.pyplot as plt\n",
    "from psutil import virtual_memory\n",
    "\n",
    "# Meridian imports\n",
    "from meridian import constants\n",
    "from meridian.data import load\n",
    "from meridian.data import test_utils\n",
    "from meridian.model import model\n",
    "from meridian.model import spec\n",
    "from meridian.model import prior_distribution\n",
    "from meridian.analysis import optimizer\n",
    "from meridian.analysis import analyzer\n",
    "from meridian.analysis import visualizer\n",
    "from meridian.analysis import summarizer\n",
    "from meridian.analysis import formatter\n",
    "\n",
    "# Display settings\n",
    "pd.set_option('display.max_rows', 200)\n",
    "pd.set_option('display.max_columns', None)"
   ]
  },
  {
   "cell_type": "markdown",
   "id": "system-check-header",
   "metadata": {},
   "source": [
    "## 2. System Resource Check"
   ]
  },
  {
   "cell_type": "code",
   "execution_count": null,
   "id": "system-check",
   "metadata": {},
   "outputs": [],
   "source": [
    "# Check system resources\n",
    "ram_gb = virtual_memory().total / 1e9\n",
    "print(f'Your runtime has {ram_gb:.1f} gigabytes of available RAM')\n",
    "print(f\"Num GPUs Available: {len(tf.config.experimental.list_physical_devices('GPU'))}\")\n",
    "print(f\"Num CPUs Available: {len(tf.config.experimental.list_physical_devices('CPU'))}\")"
   ]
  },
  {
   "cell_type": "markdown",
   "id": "data-setup-header",
   "metadata": {},
   "source": [
    "## 3. Data Setup and Loading"
   ]
  },
  {
   "cell_type": "code",
   "execution_count": null,
   "id": "data-setup",
   "metadata": {},
   "outputs": [],
   "source": [
    "# Define column mappings\n",
    "coord_to_columns = load.CoordToColumns(\n",
    "    time='time',\n",
    "    geo='geo',\n",
    "    controls=['competitor_sales_control', 'sentiment_score_control'],\n",
    "    population='population',\n",
    "    kpi='conversions',\n",
    "    revenue_per_kpi='revenue_per_conversion',\n",
    "    media=[\n",
    "        'Channel0_impression',\n",
    "        'Channel1_impression', \n",
    "        'Channel2_impression',\n",
    "        'Channel3_impression',\n",
    "        'Channel4_impression',\n",
    "    ],\n",
    "    media_spend=[\n",
    "        'Channel0_spend',\n",
    "        'Channel1_spend',\n",
    "        'Channel2_spend', \n",
    "        'Channel3_spend',\n",
    "        'Channel4_spend',\n",
    "    ],\n",
    "    organic_media=['Organic_channel0_impression'],\n",
    "    non_media_treatments=['Promo'],\n",
    ")\n",
    "\n",
    "# Media to channel mappings\n",
    "media_to_channel = {\n",
    "    'Channel0_impression': 'Channel_0',\n",
    "    'Channel1_impression': 'Channel_1', \n",
    "    'Channel2_impression': 'Channel_2',\n",
    "    'Channel3_impression': 'Channel_3',\n",
    "    'Channel4_impression': 'Channel_4',\n",
    "}\n",
    "\n",
    "media_spend_to_channel = {\n",
    "    'Channel0_spend': 'Channel_0',\n",
    "    'Channel1_spend': 'Channel_1',\n",
    "    'Channel2_spend': 'Channel_2', \n",
    "    'Channel3_spend': 'Channel_3',\n",
    "    'Channel4_spend': 'Channel_4',\n",
    "}\n",
    "\n",
    "print(\"✓ Column mappings defined\")"
   ]
  },
  {
   "cell_type": "code",
   "execution_count": null,
   "id": "data-loading",
   "metadata": {},
   "outputs": [],
   "source": [
    "# Create data loader\n",
    "loader = load.CsvDataLoader(\n",
    "    csv_path=\"https://raw.githubusercontent.com/google/meridian/refs/heads/main/meridian/data/simulated_data/csv/geo_all_channels.csv\",\n",
    "    kpi_type='non_revenue',\n",
    "    coord_to_columns=coord_to_columns,\n",
    "    media_to_channel=media_to_channel,\n",
    "    media_spend_to_channel=media_spend_to_channel,\n",
    ")\n",
    "\n",
    "# Load data\n",
    "data = loader.load()\n",
    "print(\"✓ Data loaded successfully!\")\n",
    "\n",
    "# Basic data inspection\n",
    "print(f\"KPI shape: {data.kpi.shape}\")\n",
    "print(f\"Media shape: {data.media.shape}\")\n",
    "print(f\"Time periods: {data.kpi.shape[0]}\")\n",
    "print(f\"Geos: {data.kpi.shape[1]}\")\n",
    "print(f\"Media channels: {data.media.shape[2]}\")\n",
    "if hasattr(data, 'controls') and data.controls is not None:\n",
    "    print(f\"Controls shape: {data.controls.shape}\")\n",
    "else:\n",
    "    print(\"No controls data\")""
   ]
  },
  {
   "cell_type": "markdown",
   "id": "model-spec-header",
   "metadata": {},
   "source": [
    "## 4. Model Specification"
   ]
  },
  {
   "cell_type": "code",
   "execution_count": null,
   "id": "model-spec",
   "metadata": {},
   "outputs": [],
   "source": [
    "# Define ROI priors\n",
    "roi_mu = 0.2     # Mean for ROI prior\n",
    "roi_sigma = 0.9  # Standard deviation for ROI prior\n",
    "\n",
    "# Create prior distribution\n",
    "prior = prior_distribution.PriorDistribution(\n",
    "    roi_m=tfp.distributions.LogNormal(roi_mu, roi_sigma, name=constants.ROI_M)\n",
    ")\n",
    "\n",
    "# Create model specification\n",
    "model_spec = spec.ModelSpec(prior=prior)\n",
    "print(\"✓ Model specification created!\")"
   ]
  },
  {
   "cell_type": "markdown",
   "id": "model-training-header",
   "metadata": {},
   "source": [
    "## 5. Model Training"
   ]
  },
  {
   "cell_type": "code",
   "execution_count": null,
   "id": "model-init",
   "metadata": {},
   "outputs": [],
   "source": [
    "# Create model\n",
    "mmm = model.Meridian(input_data=data, model_spec=model_spec)\n",
    "print(\"✓ Model initialized!\")"
   ]
  },
  {
   "cell_type": "code",
   "execution_count": null,
   "id": "prior-sampling",
   "metadata": {},
   "outputs": [],
   "source": [
    "# Sample from prior (for validation)\n",
    "print(\"Sampling from prior...\")\n",
    "mmm.sample_prior(500)\n",
    "print(\"✓ Prior sampling complete!\")"
   ]
  },
  {
   "cell_type": "code",
   "execution_count": null,
   "id": "posterior-sampling",
   "metadata": {},
   "outputs": [],
   "source": [
    "# Sample from posterior\n",
    "print(\"Training model (sampling posterior)...\")\n",
    "print(\"This may take several minutes...\")\n",
    "\n",
    "mmm.sample_posterior(\n",
    "    n_chains=4,      # Reduced for faster execution\n",
    "    n_adapt=500,\n",
    "    n_burnin=500, \n",
    "    n_keep=1000,\n",
    "    seed=42\n",
    ")\n",
    "print(\"✓ Model training complete!\")"
   ]
  },
  {
   "cell_type": "markdown",
   "id": "diagnostics-header",
   "metadata": {},
   "source": [
    "## 6. Model Diagnostics"
   ]
  },
  {
   "cell_type": "code",
   "execution_count": null,
   "id": "diagnostics",
   "metadata": {},
   "outputs": [],
   "source": [
    "# Model diagnostics\n",
    "model_diagnostics = visualizer.ModelDiagnostics(mmm)\n",
    "\n",
    "# Plot R-hat diagnostics\n",
    "plt.figure(figsize=(12, 8))\n",
    "model_diagnostics.plot_rhat_boxplot()\n",
    "plt.title(\"Model Diagnostics: R-hat Values\")\n",
    "plt.tight_layout()\n",
    "plt.show()"
   ]
  },
  {
   "cell_type": "markdown",
   "id": "analysis-header",
   "metadata": {},
   "source": [
    "## 7. Model Analysis"
   ]
  },
  {
   "cell_type": "code",
   "execution_count": null,
   "id": "analysis",
   "metadata": {},
   "outputs": [],
   "source": [
    "# Create analyzer\n",
    "analyzer_obj = analyzer.Analyzer(mmm)\n",
    "\n",
    "# Get media contribution\n",
    "print(\"Calculating media contributions...\")\n",
    "media_contribution = analyzer_obj.get_media_contribution()\n",
    "print(f\"Media contribution shape: {media_contribution.shape}\")\n",
    "\n",
    "# Get ROI estimates\n",
    "print(\"Calculating ROI estimates...\")\n",
    "roi_estimates = analyzer_obj.get_roi()\n",
    "print(f\"ROI estimates shape: {roi_estimates.shape}\")"
   ]
  },
  {
   "cell_type": "code",
   "execution_count": null,
   "id": "roi-summary",
   "metadata": {},
   "outputs": [],
   "source": [
    "# Display ROI summary\n",
    "roi_mean = np.mean(roi_estimates, axis=0)\n",
    "roi_std = np.std(roi_estimates, axis=0)\n",
    "\n",
    "roi_summary = pd.DataFrame({\n",
    "    'Channel': [f'Channel_{i}' for i in range(len(roi_mean))],\n",
    "    'ROI_Mean': roi_mean,\n",
    "    'ROI_Std': roi_std\n",
    "})\n",
    "\n",
    "print(\"ROI Summary:\")\n",
    "display(roi_summary)"
   ]
  },
  {
   "cell_type": "markdown",
   "id": "optimization-header",
   "metadata": {},
   "source": [
    "## 8. Budget Optimization (Optional)"
   ]
  },
  {
   "cell_type": "code",
   "execution_count": null,
   "id": "optimization",
   "metadata": {},
   "outputs": [],
   "source": [
    "# Budget optimization\n",
    "try:\n",
    "    print(\"Running budget optimization...\")\n",
    "    \n",
    "    # Create optimizer\n",
    "    opt = optimizer.Optimizer(mmm)\n",
    "    \n",
    "    # Get current budget\n",
    "    current_budget = mmm.input_data.media_spend.sum(axis=(0, 1))\n",
    "    print(f\"Current total budget: {current_budget.sum():.2f}\")\n",
    "    \n",
    "    # Optimize budget allocation\n",
    "    optimal_allocation = opt.optimize_budget(\n",
    "        budget=current_budget.sum(),\n",
    "        n_time_periods=4  # Optimize for next 4 periods\n",
    "    )\n",
    "    \n",
    "    print(\"✓ Budget optimization complete!\")\n",
    "    \n",
    "except Exception as e:\n",
    "    print(f\"Note: Budget optimization failed: {e}\")\n",
    "    print(\"This is normal for tutorial data - optimization works better with real data.\")"
   ]
  },
  {
   "cell_type": "markdown",
   "id": "conclusion-header",
   "metadata": {},
   "source": [
    "## 9. Conclusion\n",
    "\n",
    "This tutorial covered:\n",
    "- ✓ Data loading with proper column mappings\n",
    "- ✓ Model specification with priors\n",
    "- ✓ Model training (prior and posterior sampling)\n",
    "- ✓ Model diagnostics and validation\n",
    "- ✓ Analysis of media contributions and ROI\n",
    "- ✓ Budget optimization (optional)\n",
    "\n",
    "### Next Steps:\n",
    "1. Review model diagnostics (R-hat values should be close to 1.0)\n",
    "2. Analyze media contributions and ROI estimates\n",
    "3. Experiment with different priors\n",
    "4. Apply the methodology to your own data\n",
    "\n",
    "### Key Files Created:\n",
    "- Model diagnostics plots\n",
    "- ROI analysis results\n",
    "\n",
    "For more information, visit: https://developers.google.com/meridian"
   ]
  }
 ],
 "metadata": {
  "kernelspec": {
   "display_name": "Python 3",
   "language": "python",
   "name": "python3"
  },
  "language_info": {
   "codemirror_mode": {
    "name": "ipython",
    "version": 3
   },
   "file_extension": ".py",
   "mimetype": "text/x-python",
   "name": "python",
   "nbconvert_exporter": "python",
   "pygments_lexer": "ipython3",
   "version": "3.8.0"
  }
 },
 "nbformat": 4,
 "nbformat_minor": 5
}